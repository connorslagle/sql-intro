{
 "cells": [
  {
   "cell_type": "markdown",
   "metadata": {},
   "source": [
    "# Introduction to SQL\n",
    "\n",
    "## Introduction\n",
    "#### Goals\n",
    "\n",
    "   1. Explore the Database\n",
    "   2. Basic Querying - Selecting From Tables\n",
    "   3. Selecting specific attributes of a table\n",
    "   4. Where clause/ filtering\n",
    "   5. Aggregation functions: counting\n",
    "   6. Aggregation functions: AVG\n",
    "   7. Intervals, Ranges, and sorting\n",
    "   8. Subqueries\n",
    "\n",
    "\n",
    "## Basic\n",
    "### Part 1: Loading the database\n",
    "\n",
    "In this repo, there's a SQL dump of the data we'll be using today. This data is typical of the type of data you might encounter in industry. It is [normalized](https://en.wikipedia.org/wiki/Database_normalization), which is a way of minimizing the disk space required to store the data and ensuring consistency, but which can sometimes require more effort to get data, since most queries will require information stored across multiple tables. As an example, the events table has ids for both users and meals, but in order to get the price of the meal, we have to look up that meal in the id table. This allows us to use _only_ the id to refer to the meal _anywhere_ it may appear, but does mean that to get meal details we almost always have to join. *As a data scientist, you will be writing a lot of SQL in order to get data from various tables into a single location where you can use it.*"
   ]
  },
  {
   "cell_type": "markdown",
   "metadata": {},
   "source": [
    "1. If you are on your personal computer and haven't set up postgres yet, follow [these instructions](https://github.com/GalvanizeDataScience/docker/blob/master/reference/docker_postgres.md) to start a docker container.\n",
    "\n",
    "1. **From a Docker bash shell** run `psql -U postgres` and then this command to create the database. See [here for more details on loading the data](https://github.com/GalvanizeDataScience/docker/blob/master/reference/docker_postgres.md#loading-data-into-the-server-from-a-local-file)\n",
    "\n",
    "    ```sql\n",
    "    CREATE DATABASE readychef;\n",
    "    \\q\n",
    "    ```"
   ]
  },
  {
   "cell_type": "markdown",
   "metadata": {},
   "source": [
    "1. **Back in the Docker bash shell** navigate to where the data on your mounted folder is:\n",
    "\n",
    "    ```\n",
    "    cd data\n",
    "    psql -U postgres readychef < readychef.sql\n",
    "    ```\n",
    "\n",
    "    You should see a bunch of SQL commands flow through the terminal. "
   ]
  },
  {
   "cell_type": "markdown",
   "metadata": {},
   "source": [
    "1. To enter the interactive Postgres command-line client and connect to your database, enter the following from the bash shell in the docker container.\n",
    "\n",
    "    ```\n",
    "    psql -U postgres readychef\n",
    "    ```\n",
    "This will put you in the command-line client. We won't use that for this assignment, but you can type\n",
    "\n",
    "    ```sql\n",
    "    SELECT * FROM users LIMIT 10; \n",
    "    ```\n",
    "\n",
    "to see the first rows of the users table and verify the database was set up correctly (don't forget the semicolon!). We can do\n",
    "    ```\n",
    "    \\d\n",
    "    ```\n",
    "in the command-line client to list all the tables in the database, and look at details of the user table with\n",
    "    ```\n",
    "    \\d users\n",
    "    ```\n",
    "\n",
    "When you've looked at the details for each table, you can enter\n",
    "    ```\n",
    "    \\q\n",
    "    ```\n",
    "\n",
    "to exit the command-line client, but you might keep this open to refer to it again."
   ]
  },
  {
   "cell_type": "markdown",
   "metadata": {},
   "source": [
    "### Part 2: Basic Exploration\n",
    "\n",
    "For this assignment we'll access the postgres database from python using a jupyter notebook.\n",
    "\n",
    "1. Import `psycopg2` and create a connection to the database with\n",
    "\n",
    "    ```python\n",
    "    conn = psycopg2.connect(dbname='readychef',\n",
    "                        host='localhost',\n",
    "                        user='postgres',\n",
    "                        password='password')\n",
    "    ```\n",
    "2. Create a cursor from the connection and execute a query to select the first 10 rows from the event table. Use a `for` loop to iterate over the cursor, printing out each row."
   ]
  },
  {
   "cell_type": "code",
   "execution_count": 1,
   "metadata": {},
   "outputs": [
    {
     "name": "stderr",
     "output_type": "stream",
     "text": [
      "/home/conslag/.local/lib/python3.7/site-packages/psycopg2/__init__.py:144: UserWarning: The psycopg2 wheel package will be renamed from release 2.8; in order to keep installing from binary please use \"pip install psycopg2-binary\" instead. For details see: <http://initd.org/psycopg/docs/install.html#binary-install-from-pypi>.\n",
      "  \"\"\")\n"
     ]
    }
   ],
   "source": [
    "import psycopg2"
   ]
  },
  {
   "cell_type": "code",
   "execution_count": 14,
   "metadata": {},
   "outputs": [],
   "source": [
    "conn = psycopg2.connect(dbname='readychef',\n",
    "                       host='localhost',\n",
    "                       user='postgres',\n",
    "                       password='password')"
   ]
  },
  {
   "cell_type": "code",
   "execution_count": 15,
   "metadata": {},
   "outputs": [],
   "source": [
    "cur = conn.cursor()"
   ]
  },
  {
   "cell_type": "code",
   "execution_count": 16,
   "metadata": {},
   "outputs": [],
   "source": [
    "cur.execute('''\n",
    "    SELECT *\n",
    "    FROM users\n",
    "    LIMIT 10;\n",
    "    ''')"
   ]
  },
  {
   "cell_type": "code",
   "execution_count": 17,
   "metadata": {},
   "outputs": [
    {
     "name": "stdout",
     "output_type": "stream",
     "text": [
      "(1, datetime.date(2013, 1, 1), 'RE')\n",
      "(2, datetime.date(2013, 1, 1), 'PI')\n",
      "(3, datetime.date(2013, 1, 1), 'FB')\n",
      "(4, datetime.date(2013, 1, 1), 'FB')\n",
      "(5, datetime.date(2013, 1, 1), 'FB')\n",
      "(6, datetime.date(2013, 1, 1), 'FB')\n",
      "(7, datetime.date(2013, 1, 1), 'PI')\n",
      "(8, datetime.date(2013, 1, 1), 'FB')\n",
      "(9, datetime.date(2013, 1, 1), 'FB')\n",
      "(10, datetime.date(2013, 1, 1), 'TW')\n"
     ]
    }
   ],
   "source": [
    "for row in cur.fetchall():\n",
    "    print(row)"
   ]
  },
  {
   "cell_type": "markdown",
   "metadata": {},
   "source": [
    "3. Write a function that takes a query string and database connection, executes the query, and returns a list of rows. Call the function on a statement selecting the first 10 rows of the users table. Is it better for a function to return a list of rows or the cursor itself?"
   ]
  },
  {
   "cell_type": "code",
   "execution_count": 18,
   "metadata": {},
   "outputs": [],
   "source": [
    "def query(db_conn, query_string):\n",
    "    with db_conn.cursor() as cur:\n",
    "        cur.execute(query_string)\n",
    "        query = cur.fetchall()\n",
    "    return query\n"
   ]
  },
  {
   "cell_type": "code",
   "execution_count": 19,
   "metadata": {},
   "outputs": [
    {
     "data": {
      "text/plain": [
       "[(1, datetime.date(2013, 1, 1), 'RE'),\n",
       " (2, datetime.date(2013, 1, 1), 'PI'),\n",
       " (3, datetime.date(2013, 1, 1), 'FB'),\n",
       " (4, datetime.date(2013, 1, 1), 'FB'),\n",
       " (5, datetime.date(2013, 1, 1), 'FB'),\n",
       " (6, datetime.date(2013, 1, 1), 'FB'),\n",
       " (7, datetime.date(2013, 1, 1), 'PI'),\n",
       " (8, datetime.date(2013, 1, 1), 'FB'),\n",
       " (9, datetime.date(2013, 1, 1), 'FB'),\n",
       " (10, datetime.date(2013, 1, 1), 'TW')]"
      ]
     },
     "execution_count": 19,
     "metadata": {},
     "output_type": "execute_result"
    }
   ],
   "source": [
    "query(conn, \"SELECT * FROM users LIMIT 10;\")"
   ]
  },
  {
   "cell_type": "markdown",
   "metadata": {},
   "source": [
    "4. Use the `read_sql` function in `pandas` to load the same query into a dataframe. For the remainng questions, you can use either approach. "
   ]
  },
  {
   "cell_type": "code",
   "execution_count": 20,
   "metadata": {},
   "outputs": [],
   "source": [
    "import pandas as pd\n"
   ]
  },
  {
   "cell_type": "code",
   "execution_count": 21,
   "metadata": {},
   "outputs": [],
   "source": [
    "df = pd.read_sql(\"SELECT * FROM users LIMIT 10;\", conn)"
   ]
  },
  {
   "cell_type": "code",
   "execution_count": 22,
   "metadata": {},
   "outputs": [
    {
     "data": {
      "text/html": [
       "<div>\n",
       "<style scoped>\n",
       "    .dataframe tbody tr th:only-of-type {\n",
       "        vertical-align: middle;\n",
       "    }\n",
       "\n",
       "    .dataframe tbody tr th {\n",
       "        vertical-align: top;\n",
       "    }\n",
       "\n",
       "    .dataframe thead th {\n",
       "        text-align: right;\n",
       "    }\n",
       "</style>\n",
       "<table border=\"1\" class=\"dataframe\">\n",
       "  <thead>\n",
       "    <tr style=\"text-align: right;\">\n",
       "      <th></th>\n",
       "      <th>userid</th>\n",
       "      <th>dt</th>\n",
       "      <th>campaign_id</th>\n",
       "    </tr>\n",
       "  </thead>\n",
       "  <tbody>\n",
       "    <tr>\n",
       "      <th>0</th>\n",
       "      <td>1</td>\n",
       "      <td>2013-01-01</td>\n",
       "      <td>RE</td>\n",
       "    </tr>\n",
       "    <tr>\n",
       "      <th>1</th>\n",
       "      <td>2</td>\n",
       "      <td>2013-01-01</td>\n",
       "      <td>PI</td>\n",
       "    </tr>\n",
       "    <tr>\n",
       "      <th>2</th>\n",
       "      <td>3</td>\n",
       "      <td>2013-01-01</td>\n",
       "      <td>FB</td>\n",
       "    </tr>\n",
       "    <tr>\n",
       "      <th>3</th>\n",
       "      <td>4</td>\n",
       "      <td>2013-01-01</td>\n",
       "      <td>FB</td>\n",
       "    </tr>\n",
       "    <tr>\n",
       "      <th>4</th>\n",
       "      <td>5</td>\n",
       "      <td>2013-01-01</td>\n",
       "      <td>FB</td>\n",
       "    </tr>\n",
       "  </tbody>\n",
       "</table>\n",
       "</div>"
      ],
      "text/plain": [
       "   userid          dt campaign_id\n",
       "0       1  2013-01-01          RE\n",
       "1       2  2013-01-01          PI\n",
       "2       3  2013-01-01          FB\n",
       "3       4  2013-01-01          FB\n",
       "4       5  2013-01-01          FB"
      ]
     },
     "execution_count": 22,
     "metadata": {},
     "output_type": "execute_result"
    }
   ],
   "source": [
    "df.head()"
   ]
  },
  {
   "cell_type": "markdown",
   "metadata": {},
   "source": [
    "### Part 3: Select statements\n",
    "\n",
    "1. To get an understanding of the data, run a [SELECT](http://www.postgresqltutorial.com/postgresql-select/) statement on each table. Keep all the columns and limit the number of rows to 10."
   ]
  },
  {
   "cell_type": "code",
   "execution_count": 30,
   "metadata": {},
   "outputs": [
    {
     "name": "stdout",
     "output_type": "stream",
     "text": [
      "events\n",
      "           dt  userid  meal_id   event\n",
      "0  2013-01-01       3       18  bought\n",
      "1  2013-01-01       7        1    like\n",
      "2  2013-01-01      10       29  bought\n",
      "3  2013-01-01      11       19   share\n",
      "4  2013-01-01      15       33    like\n",
      "5  2013-01-01      18        4   share\n",
      "6  2013-01-01      18       40  bought\n",
      "7  2013-01-01      21       10   share\n",
      "8  2013-01-01      21        4    like\n",
      "9  2013-01-01      22       23  bought \n",
      "\n",
      "meals\n",
      "   meal_id     type          dt  price\n",
      "0        1   french  2013-01-01     10\n",
      "1        2  chinese  2013-01-01     13\n",
      "2        3  mexican  2013-01-02      9\n",
      "3        4  italian  2013-01-03      9\n",
      "4        5  chinese  2013-01-03     12\n",
      "5        6  italian  2013-01-03      9\n",
      "6        7  italian  2013-01-03     10\n",
      "7        8   french  2013-01-03     14\n",
      "8        9  italian  2013-01-03     13\n",
      "9       10   french  2013-01-03      7 \n",
      "\n",
      "referrals\n",
      "   referred  referred_by\n",
      "0        54           44\n",
      "1       158           80\n",
      "2       184          139\n",
      "3       263          107\n",
      "4       275           35\n",
      "5       279            6\n",
      "6       298          167\n",
      "7       305           59\n",
      "8       311           80\n",
      "9       330          289 \n",
      "\n",
      "users\n",
      "   userid          dt campaign_id\n",
      "0       1  2013-01-01          RE\n",
      "1       2  2013-01-01          PI\n",
      "2       3  2013-01-01          FB\n",
      "3       4  2013-01-01          FB\n",
      "4       5  2013-01-01          FB\n",
      "5       6  2013-01-01          FB\n",
      "6       7  2013-01-01          PI\n",
      "7       8  2013-01-01          FB\n",
      "8       9  2013-01-01          FB\n",
      "9      10  2013-01-01          TW \n",
      "\n",
      "visits\n",
      "           dt  userid\n",
      "0  2013-01-01       3\n",
      "1  2013-01-01       7\n",
      "2  2013-01-01       8\n",
      "3  2013-01-01      10\n",
      "4  2013-01-01      11\n",
      "5  2013-01-01      15\n",
      "6  2013-01-01      18\n",
      "7  2013-01-01      19\n",
      "8  2013-01-01      20\n",
      "9  2013-01-01      21 \n",
      "\n"
     ]
    }
   ],
   "source": [
    "table_lst = ['events', 'meals', 'referrals', 'users', 'visits']\n",
    "\n",
    "for table in table_lst:\n",
    "    df = pd.read_sql(f\"SELECT * FROM {table} LIMIT 10;\", conn)\n",
    "    print(table)\n",
    "    print(df.head(10), '\\n')"
   ]
  },
  {
   "cell_type": "markdown",
   "metadata": {},
   "source": [
    "2. Write a `SELECT` statement that would get just the userids from the events table."
   ]
  },
  {
   "cell_type": "code",
   "execution_count": 32,
   "metadata": {},
   "outputs": [
    {
     "name": "stdout",
     "output_type": "stream",
     "text": [
      "<class 'pandas.core.frame.DataFrame'>\n",
      "RangeIndex: 5524 entries, 0 to 5523\n",
      "Data columns (total 1 columns):\n",
      " #   Column  Non-Null Count  Dtype\n",
      "---  ------  --------------  -----\n",
      " 0   userid  5524 non-null   int64\n",
      "dtypes: int64(1)\n",
      "memory usage: 43.3 KB\n"
     ]
    }
   ],
   "source": [
    "sql = 'SELECT userid FROM users'\n",
    "df = pd.read_sql(sql, conn)\n",
    "df.info()"
   ]
  },
  {
   "cell_type": "markdown",
   "metadata": {},
   "source": [
    "3. Maybe you're just interested in what the campaign ids are. Use 'SELECT DISTINCT' to figure out all the possible values of that column in the appropriate table.\n",
    "\n",
    "    *Note:*  Pinterest=PI, Facebook=FB, Twitter=TW, and Reddit=RE"
   ]
  },
  {
   "cell_type": "code",
   "execution_count": 34,
   "metadata": {},
   "outputs": [
    {
     "data": {
      "text/html": [
       "<div>\n",
       "<style scoped>\n",
       "    .dataframe tbody tr th:only-of-type {\n",
       "        vertical-align: middle;\n",
       "    }\n",
       "\n",
       "    .dataframe tbody tr th {\n",
       "        vertical-align: top;\n",
       "    }\n",
       "\n",
       "    .dataframe thead th {\n",
       "        text-align: right;\n",
       "    }\n",
       "</style>\n",
       "<table border=\"1\" class=\"dataframe\">\n",
       "  <thead>\n",
       "    <tr style=\"text-align: right;\">\n",
       "      <th></th>\n",
       "      <th>campaign_id</th>\n",
       "    </tr>\n",
       "  </thead>\n",
       "  <tbody>\n",
       "    <tr>\n",
       "      <th>0</th>\n",
       "      <td>FB</td>\n",
       "    </tr>\n",
       "    <tr>\n",
       "      <th>1</th>\n",
       "      <td>RE</td>\n",
       "    </tr>\n",
       "    <tr>\n",
       "      <th>2</th>\n",
       "      <td>PI</td>\n",
       "    </tr>\n",
       "    <tr>\n",
       "      <th>3</th>\n",
       "      <td>TW</td>\n",
       "    </tr>\n",
       "  </tbody>\n",
       "</table>\n",
       "</div>"
      ],
      "text/plain": [
       "  campaign_id\n",
       "0          FB\n",
       "1          RE\n",
       "2          PI\n",
       "3          TW"
      ]
     },
     "execution_count": 34,
     "metadata": {},
     "output_type": "execute_result"
    }
   ],
   "source": [
    "sql = '''\n",
    "    SELECT\n",
    "        DISTINCT campaign_id\n",
    "    FROM\n",
    "        users\n",
    "    ;\n",
    "'''\n",
    "df = pd.read_sql(sql, conn)\n",
    "df.head()"
   ]
  },
  {
   "cell_type": "markdown",
   "metadata": {},
   "source": [
    "### Part 4: Where Clauses / Filtering\n",
    "\n",
    "Now that we have the lay of the land, we're interested in the subset of users that came from Facebook (FB). If you're unfamiliar with SQL syntax, the [WHERE](http://www.postgresqltutorial.com/postgresql-where/) clause can be used to add a conditional to `SELECT` statements. This has the effect of only returning rows where the conditional evaluates to `TRUE`. \n",
    "\n",
    "*Note: Make sure you put string literals in single quotes, like `campaign_id='TW'`.*\n",
    "\n",
    "1. Using the `WHERE` clause, write a new `SELECT` statement that returns all rows where `Campaign_ID` is equal to `FB`."
   ]
  },
  {
   "cell_type": "code",
   "execution_count": 36,
   "metadata": {},
   "outputs": [
    {
     "data": {
      "text/html": [
       "<div>\n",
       "<style scoped>\n",
       "    .dataframe tbody tr th:only-of-type {\n",
       "        vertical-align: middle;\n",
       "    }\n",
       "\n",
       "    .dataframe tbody tr th {\n",
       "        vertical-align: top;\n",
       "    }\n",
       "\n",
       "    .dataframe thead th {\n",
       "        text-align: right;\n",
       "    }\n",
       "</style>\n",
       "<table border=\"1\" class=\"dataframe\">\n",
       "  <thead>\n",
       "    <tr style=\"text-align: right;\">\n",
       "      <th></th>\n",
       "      <th>userid</th>\n",
       "      <th>dt</th>\n",
       "      <th>campaign_id</th>\n",
       "    </tr>\n",
       "  </thead>\n",
       "  <tbody>\n",
       "    <tr>\n",
       "      <th>0</th>\n",
       "      <td>3</td>\n",
       "      <td>2013-01-01</td>\n",
       "      <td>FB</td>\n",
       "    </tr>\n",
       "    <tr>\n",
       "      <th>1</th>\n",
       "      <td>4</td>\n",
       "      <td>2013-01-01</td>\n",
       "      <td>FB</td>\n",
       "    </tr>\n",
       "    <tr>\n",
       "      <th>2</th>\n",
       "      <td>5</td>\n",
       "      <td>2013-01-01</td>\n",
       "      <td>FB</td>\n",
       "    </tr>\n",
       "    <tr>\n",
       "      <th>3</th>\n",
       "      <td>6</td>\n",
       "      <td>2013-01-01</td>\n",
       "      <td>FB</td>\n",
       "    </tr>\n",
       "    <tr>\n",
       "      <th>4</th>\n",
       "      <td>8</td>\n",
       "      <td>2013-01-01</td>\n",
       "      <td>FB</td>\n",
       "    </tr>\n",
       "    <tr>\n",
       "      <th>5</th>\n",
       "      <td>9</td>\n",
       "      <td>2013-01-01</td>\n",
       "      <td>FB</td>\n",
       "    </tr>\n",
       "    <tr>\n",
       "      <th>6</th>\n",
       "      <td>12</td>\n",
       "      <td>2013-01-01</td>\n",
       "      <td>FB</td>\n",
       "    </tr>\n",
       "    <tr>\n",
       "      <th>7</th>\n",
       "      <td>17</td>\n",
       "      <td>2013-01-01</td>\n",
       "      <td>FB</td>\n",
       "    </tr>\n",
       "    <tr>\n",
       "      <th>8</th>\n",
       "      <td>19</td>\n",
       "      <td>2013-01-01</td>\n",
       "      <td>FB</td>\n",
       "    </tr>\n",
       "    <tr>\n",
       "      <th>9</th>\n",
       "      <td>24</td>\n",
       "      <td>2013-01-01</td>\n",
       "      <td>FB</td>\n",
       "    </tr>\n",
       "  </tbody>\n",
       "</table>\n",
       "</div>"
      ],
      "text/plain": [
       "   userid          dt campaign_id\n",
       "0       3  2013-01-01          FB\n",
       "1       4  2013-01-01          FB\n",
       "2       5  2013-01-01          FB\n",
       "3       6  2013-01-01          FB\n",
       "4       8  2013-01-01          FB\n",
       "5       9  2013-01-01          FB\n",
       "6      12  2013-01-01          FB\n",
       "7      17  2013-01-01          FB\n",
       "8      19  2013-01-01          FB\n",
       "9      24  2013-01-01          FB"
      ]
     },
     "execution_count": 36,
     "metadata": {},
     "output_type": "execute_result"
    }
   ],
   "source": [
    "sql = '''\n",
    "    SELECT\n",
    "        *\n",
    "    FROM\n",
    "        users\n",
    "    WHERE\n",
    "        campaign_id = 'FB'\n",
    "    ;\n",
    "'''\n",
    "\n",
    "df = pd.read_sql(sql, conn)\n",
    "df.head(10)"
   ]
  },
  {
   "cell_type": "markdown",
   "metadata": {},
   "source": [
    "2. We don't need the campaign id in the result since they are all the same, so only include the other two columns.\n",
    "\n",
    "    Your output should be something like this:\n",
    "\n",
    "    ```\n",
    "userid\tdt\n",
    "0\t3\t2013-01-01\n",
    "1\t4\t2013-01-01\n",
    "2\t5\t2013-01-01\n",
    "3\t6\t2013-01-01\n",
    "4\t8\t2013-01-01\n",
    "...\n",
    "    ```"
   ]
  },
  {
   "cell_type": "code",
   "execution_count": null,
   "metadata": {},
   "outputs": [],
   "source": []
  },
  {
   "cell_type": "code",
   "execution_count": 37,
   "metadata": {},
   "outputs": [
    {
     "data": {
      "text/html": [
       "<div>\n",
       "<style scoped>\n",
       "    .dataframe tbody tr th:only-of-type {\n",
       "        vertical-align: middle;\n",
       "    }\n",
       "\n",
       "    .dataframe tbody tr th {\n",
       "        vertical-align: top;\n",
       "    }\n",
       "\n",
       "    .dataframe thead th {\n",
       "        text-align: right;\n",
       "    }\n",
       "</style>\n",
       "<table border=\"1\" class=\"dataframe\">\n",
       "  <thead>\n",
       "    <tr style=\"text-align: right;\">\n",
       "      <th></th>\n",
       "      <th>userid</th>\n",
       "      <th>dt</th>\n",
       "    </tr>\n",
       "  </thead>\n",
       "  <tbody>\n",
       "    <tr>\n",
       "      <th>0</th>\n",
       "      <td>3</td>\n",
       "      <td>2013-01-01</td>\n",
       "    </tr>\n",
       "    <tr>\n",
       "      <th>1</th>\n",
       "      <td>4</td>\n",
       "      <td>2013-01-01</td>\n",
       "    </tr>\n",
       "    <tr>\n",
       "      <th>2</th>\n",
       "      <td>5</td>\n",
       "      <td>2013-01-01</td>\n",
       "    </tr>\n",
       "    <tr>\n",
       "      <th>3</th>\n",
       "      <td>6</td>\n",
       "      <td>2013-01-01</td>\n",
       "    </tr>\n",
       "    <tr>\n",
       "      <th>4</th>\n",
       "      <td>8</td>\n",
       "      <td>2013-01-01</td>\n",
       "    </tr>\n",
       "    <tr>\n",
       "      <th>5</th>\n",
       "      <td>9</td>\n",
       "      <td>2013-01-01</td>\n",
       "    </tr>\n",
       "    <tr>\n",
       "      <th>6</th>\n",
       "      <td>12</td>\n",
       "      <td>2013-01-01</td>\n",
       "    </tr>\n",
       "    <tr>\n",
       "      <th>7</th>\n",
       "      <td>17</td>\n",
       "      <td>2013-01-01</td>\n",
       "    </tr>\n",
       "    <tr>\n",
       "      <th>8</th>\n",
       "      <td>19</td>\n",
       "      <td>2013-01-01</td>\n",
       "    </tr>\n",
       "    <tr>\n",
       "      <th>9</th>\n",
       "      <td>24</td>\n",
       "      <td>2013-01-01</td>\n",
       "    </tr>\n",
       "  </tbody>\n",
       "</table>\n",
       "</div>"
      ],
      "text/plain": [
       "   userid          dt\n",
       "0       3  2013-01-01\n",
       "1       4  2013-01-01\n",
       "2       5  2013-01-01\n",
       "3       6  2013-01-01\n",
       "4       8  2013-01-01\n",
       "5       9  2013-01-01\n",
       "6      12  2013-01-01\n",
       "7      17  2013-01-01\n",
       "8      19  2013-01-01\n",
       "9      24  2013-01-01"
      ]
     },
     "execution_count": 37,
     "metadata": {},
     "output_type": "execute_result"
    }
   ],
   "source": [
    "sql = '''\n",
    "    SELECT\n",
    "        userid,\n",
    "        dt\n",
    "    FROM\n",
    "        users\n",
    "    WHERE\n",
    "        campaign_id = 'FB'\n",
    "    ;\n",
    "'''\n",
    "\n",
    "df = pd.read_sql(sql, conn)\n",
    "df.head(10)"
   ]
  },
  {
   "cell_type": "markdown",
   "metadata": {},
   "source": [
    "### Part 5: Aggregation Functions\n",
    "\n",
    "Let's try some [aggregation functions](http://www.postgresql.org/docs/8.2/static/functions-aggregate.html) now.\n",
    "\n",
    "`COUNT` is an example aggregate function, which counts all the entries and you can use like this:\n",
    "\n",
    "```sql\n",
    "SELECT COUNT(*) FROM users;\n",
    "```\n",
    "\n",
    "Your output should look something like:\n",
    "\n",
    "```\n",
    "    count\n",
    "0\t5524\n",
    "\n",
    "```\n",
    "\n",
    "1. Write a query to get the count of just the users who came from Facebook."
   ]
  },
  {
   "cell_type": "code",
   "execution_count": 38,
   "metadata": {},
   "outputs": [
    {
     "data": {
      "text/html": [
       "<div>\n",
       "<style scoped>\n",
       "    .dataframe tbody tr th:only-of-type {\n",
       "        vertical-align: middle;\n",
       "    }\n",
       "\n",
       "    .dataframe tbody tr th {\n",
       "        vertical-align: top;\n",
       "    }\n",
       "\n",
       "    .dataframe thead th {\n",
       "        text-align: right;\n",
       "    }\n",
       "</style>\n",
       "<table border=\"1\" class=\"dataframe\">\n",
       "  <thead>\n",
       "    <tr style=\"text-align: right;\">\n",
       "      <th></th>\n",
       "      <th>count</th>\n",
       "    </tr>\n",
       "  </thead>\n",
       "  <tbody>\n",
       "    <tr>\n",
       "      <th>0</th>\n",
       "      <td>2192</td>\n",
       "    </tr>\n",
       "  </tbody>\n",
       "</table>\n",
       "</div>"
      ],
      "text/plain": [
       "   count\n",
       "0   2192"
      ]
     },
     "execution_count": 38,
     "metadata": {},
     "output_type": "execute_result"
    }
   ],
   "source": [
    "sql = '''\n",
    "    SELECT\n",
    "        COUNT(*)\n",
    "    FROM\n",
    "        users\n",
    "    WHERE\n",
    "        campaign_id = 'FB'\n",
    "    ;\n",
    "'''\n",
    "\n",
    "df = pd.read_sql(sql, conn)\n",
    "df.head(10)"
   ]
  },
  {
   "cell_type": "markdown",
   "metadata": {},
   "source": [
    "2. Now, count the number of users coming from each service. Here you'll have to group by the column you're selecting with a [GROUP BY](http://www.postgresql.org/docs/8.0/static/sql-select.html#SQL-GROUPBY) clause.\n",
    "\n",
    "    Try running the query without a group by. Postgres will tell you what to put in your group by clause!"
   ]
  },
  {
   "cell_type": "code",
   "execution_count": 41,
   "metadata": {},
   "outputs": [
    {
     "data": {
      "text/html": [
       "<div>\n",
       "<style scoped>\n",
       "    .dataframe tbody tr th:only-of-type {\n",
       "        vertical-align: middle;\n",
       "    }\n",
       "\n",
       "    .dataframe tbody tr th {\n",
       "        vertical-align: top;\n",
       "    }\n",
       "\n",
       "    .dataframe thead th {\n",
       "        text-align: right;\n",
       "    }\n",
       "</style>\n",
       "<table border=\"1\" class=\"dataframe\">\n",
       "  <thead>\n",
       "    <tr style=\"text-align: right;\">\n",
       "      <th></th>\n",
       "      <th>campaign_id</th>\n",
       "      <th>count</th>\n",
       "    </tr>\n",
       "  </thead>\n",
       "  <tbody>\n",
       "    <tr>\n",
       "      <th>0</th>\n",
       "      <td>FB</td>\n",
       "      <td>2192</td>\n",
       "    </tr>\n",
       "    <tr>\n",
       "      <th>1</th>\n",
       "      <td>RE</td>\n",
       "      <td>862</td>\n",
       "    </tr>\n",
       "    <tr>\n",
       "      <th>2</th>\n",
       "      <td>PI</td>\n",
       "      <td>588</td>\n",
       "    </tr>\n",
       "    <tr>\n",
       "      <th>3</th>\n",
       "      <td>TW</td>\n",
       "      <td>1882</td>\n",
       "    </tr>\n",
       "  </tbody>\n",
       "</table>\n",
       "</div>"
      ],
      "text/plain": [
       "  campaign_id  count\n",
       "0          FB   2192\n",
       "1          RE    862\n",
       "2          PI    588\n",
       "3          TW   1882"
      ]
     },
     "execution_count": 41,
     "metadata": {},
     "output_type": "execute_result"
    }
   ],
   "source": [
    "sql = '''\n",
    "    SELECT\n",
    "        campaign_id,\n",
    "        COUNT(*)\n",
    "    FROM\n",
    "        users\n",
    "    GROUP BY\n",
    "        campaign_id\n",
    "    ;\n",
    "'''\n",
    "\n",
    "df = pd.read_sql(sql, conn)\n",
    "df.head(10)"
   ]
  },
  {
   "cell_type": "markdown",
   "metadata": {},
   "source": [
    "3. Use `COUNT (DISTINCT columnname)` to get the number of unique dates that appear in the `users` table."
   ]
  },
  {
   "cell_type": "code",
   "execution_count": 44,
   "metadata": {},
   "outputs": [
    {
     "data": {
      "text/html": [
       "<div>\n",
       "<style scoped>\n",
       "    .dataframe tbody tr th:only-of-type {\n",
       "        vertical-align: middle;\n",
       "    }\n",
       "\n",
       "    .dataframe tbody tr th {\n",
       "        vertical-align: top;\n",
       "    }\n",
       "\n",
       "    .dataframe thead th {\n",
       "        text-align: right;\n",
       "    }\n",
       "</style>\n",
       "<table border=\"1\" class=\"dataframe\">\n",
       "  <thead>\n",
       "    <tr style=\"text-align: right;\">\n",
       "      <th></th>\n",
       "      <th>count</th>\n",
       "    </tr>\n",
       "  </thead>\n",
       "  <tbody>\n",
       "    <tr>\n",
       "      <th>0</th>\n",
       "      <td>352</td>\n",
       "    </tr>\n",
       "  </tbody>\n",
       "</table>\n",
       "</div>"
      ],
      "text/plain": [
       "   count\n",
       "0    352"
      ]
     },
     "execution_count": 44,
     "metadata": {},
     "output_type": "execute_result"
    }
   ],
   "source": [
    "sql = '''\n",
    "    SELECT\n",
    "        COUNT(DISTINCT dt)\n",
    "    FROM\n",
    "        users\n",
    "    ;\n",
    "'''\n",
    "\n",
    "df = pd.read_sql(sql, conn)\n",
    "df.head(10)"
   ]
  },
  {
   "cell_type": "markdown",
   "metadata": {},
   "source": [
    "4. There's also `MAX` and `MIN` functions, which do what you might expect. Write a query to get the first and last registration date from the `users` table."
   ]
  },
  {
   "cell_type": "code",
   "execution_count": 45,
   "metadata": {},
   "outputs": [
    {
     "data": {
      "text/html": [
       "<div>\n",
       "<style scoped>\n",
       "    .dataframe tbody tr th:only-of-type {\n",
       "        vertical-align: middle;\n",
       "    }\n",
       "\n",
       "    .dataframe tbody tr th {\n",
       "        vertical-align: top;\n",
       "    }\n",
       "\n",
       "    .dataframe thead th {\n",
       "        text-align: right;\n",
       "    }\n",
       "</style>\n",
       "<table border=\"1\" class=\"dataframe\">\n",
       "  <thead>\n",
       "    <tr style=\"text-align: right;\">\n",
       "      <th></th>\n",
       "      <th>min</th>\n",
       "      <th>max</th>\n",
       "    </tr>\n",
       "  </thead>\n",
       "  <tbody>\n",
       "    <tr>\n",
       "      <th>0</th>\n",
       "      <td>2013-01-01</td>\n",
       "      <td>2013-12-31</td>\n",
       "    </tr>\n",
       "  </tbody>\n",
       "</table>\n",
       "</div>"
      ],
      "text/plain": [
       "          min         max\n",
       "0  2013-01-01  2013-12-31"
      ]
     },
     "execution_count": 45,
     "metadata": {},
     "output_type": "execute_result"
    }
   ],
   "source": [
    "sql = '''\n",
    "    SELECT\n",
    "        MIN(dt) min,\n",
    "        MAX(dt) max\n",
    "    FROM\n",
    "        users\n",
    "    ;\n",
    "'''\n",
    "\n",
    "df = pd.read_sql(sql, conn)\n",
    "df.head(10)"
   ]
  },
  {
   "cell_type": "markdown",
   "metadata": {},
   "source": [
    "5. Calculate the mean price for a meal (from the `meals` table). You can use the `AVG` function. Your result should look like this:\n",
    "\n",
    "    ```\n",
    "\tavg\n",
    "0\t10.652283\n",
    "    ```"
   ]
  },
  {
   "cell_type": "code",
   "execution_count": 47,
   "metadata": {},
   "outputs": [
    {
     "data": {
      "text/html": [
       "<div>\n",
       "<style scoped>\n",
       "    .dataframe tbody tr th:only-of-type {\n",
       "        vertical-align: middle;\n",
       "    }\n",
       "\n",
       "    .dataframe tbody tr th {\n",
       "        vertical-align: top;\n",
       "    }\n",
       "\n",
       "    .dataframe thead th {\n",
       "        text-align: right;\n",
       "    }\n",
       "</style>\n",
       "<table border=\"1\" class=\"dataframe\">\n",
       "  <thead>\n",
       "    <tr style=\"text-align: right;\">\n",
       "      <th></th>\n",
       "      <th>mean_price</th>\n",
       "    </tr>\n",
       "  </thead>\n",
       "  <tbody>\n",
       "    <tr>\n",
       "      <th>0</th>\n",
       "      <td>10.652283</td>\n",
       "    </tr>\n",
       "  </tbody>\n",
       "</table>\n",
       "</div>"
      ],
      "text/plain": [
       "   mean_price\n",
       "0   10.652283"
      ]
     },
     "execution_count": 47,
     "metadata": {},
     "output_type": "execute_result"
    }
   ],
   "source": [
    "sql = '''\n",
    "    SELECT\n",
    "        AVG(price) mean_price\n",
    "    FROM\n",
    "        meals\n",
    "    ;\n",
    "'''\n",
    "\n",
    "df = pd.read_sql(sql, conn)\n",
    "df.head(10)"
   ]
  },
  {
   "cell_type": "markdown",
   "metadata": {},
   "source": [
    "6. Now get the average price, the min price and the max price for each meal type. Don't forget the group by statement!\n",
    "\n",
    "    Your output should look like this:\n",
    "\n",
    "    ```\n",
    "\ttype\tavg\tmin\tmax\n",
    "0\tmexican\t9.697595\t6\t13\n",
    "1\titalian\t11.292614\t7\t16\n",
    "2\tchinese\t9.518717\t6\t13\n",
    "3\tfrench\t11.542000\t7\t16\n",
    "4\tjapanese\t9.380488\t6\t13\n",
    "5\tvietnamese\t9.283019\t6\t13\n",
    "    ```"
   ]
  },
  {
   "cell_type": "code",
   "execution_count": 55,
   "metadata": {},
   "outputs": [
    {
     "data": {
      "text/html": [
       "<div>\n",
       "<style scoped>\n",
       "    .dataframe tbody tr th:only-of-type {\n",
       "        vertical-align: middle;\n",
       "    }\n",
       "\n",
       "    .dataframe tbody tr th {\n",
       "        vertical-align: top;\n",
       "    }\n",
       "\n",
       "    .dataframe thead th {\n",
       "        text-align: right;\n",
       "    }\n",
       "</style>\n",
       "<table border=\"1\" class=\"dataframe\">\n",
       "  <thead>\n",
       "    <tr style=\"text-align: right;\">\n",
       "      <th></th>\n",
       "      <th>meal_id</th>\n",
       "      <th>type</th>\n",
       "      <th>dt</th>\n",
       "      <th>price</th>\n",
       "    </tr>\n",
       "  </thead>\n",
       "  <tbody>\n",
       "    <tr>\n",
       "      <th>0</th>\n",
       "      <td>1</td>\n",
       "      <td>french</td>\n",
       "      <td>2013-01-01</td>\n",
       "      <td>10</td>\n",
       "    </tr>\n",
       "    <tr>\n",
       "      <th>1</th>\n",
       "      <td>2</td>\n",
       "      <td>chinese</td>\n",
       "      <td>2013-01-01</td>\n",
       "      <td>13</td>\n",
       "    </tr>\n",
       "    <tr>\n",
       "      <th>2</th>\n",
       "      <td>3</td>\n",
       "      <td>mexican</td>\n",
       "      <td>2013-01-02</td>\n",
       "      <td>9</td>\n",
       "    </tr>\n",
       "    <tr>\n",
       "      <th>3</th>\n",
       "      <td>4</td>\n",
       "      <td>italian</td>\n",
       "      <td>2013-01-03</td>\n",
       "      <td>9</td>\n",
       "    </tr>\n",
       "    <tr>\n",
       "      <th>4</th>\n",
       "      <td>5</td>\n",
       "      <td>chinese</td>\n",
       "      <td>2013-01-03</td>\n",
       "      <td>12</td>\n",
       "    </tr>\n",
       "    <tr>\n",
       "      <th>5</th>\n",
       "      <td>6</td>\n",
       "      <td>italian</td>\n",
       "      <td>2013-01-03</td>\n",
       "      <td>9</td>\n",
       "    </tr>\n",
       "    <tr>\n",
       "      <th>6</th>\n",
       "      <td>7</td>\n",
       "      <td>italian</td>\n",
       "      <td>2013-01-03</td>\n",
       "      <td>10</td>\n",
       "    </tr>\n",
       "    <tr>\n",
       "      <th>7</th>\n",
       "      <td>8</td>\n",
       "      <td>french</td>\n",
       "      <td>2013-01-03</td>\n",
       "      <td>14</td>\n",
       "    </tr>\n",
       "    <tr>\n",
       "      <th>8</th>\n",
       "      <td>9</td>\n",
       "      <td>italian</td>\n",
       "      <td>2013-01-03</td>\n",
       "      <td>13</td>\n",
       "    </tr>\n",
       "    <tr>\n",
       "      <th>9</th>\n",
       "      <td>10</td>\n",
       "      <td>french</td>\n",
       "      <td>2013-01-03</td>\n",
       "      <td>7</td>\n",
       "    </tr>\n",
       "  </tbody>\n",
       "</table>\n",
       "</div>"
      ],
      "text/plain": [
       "   meal_id     type          dt  price\n",
       "0        1   french  2013-01-01     10\n",
       "1        2  chinese  2013-01-01     13\n",
       "2        3  mexican  2013-01-02      9\n",
       "3        4  italian  2013-01-03      9\n",
       "4        5  chinese  2013-01-03     12\n",
       "5        6  italian  2013-01-03      9\n",
       "6        7  italian  2013-01-03     10\n",
       "7        8   french  2013-01-03     14\n",
       "8        9  italian  2013-01-03     13\n",
       "9       10   french  2013-01-03      7"
      ]
     },
     "execution_count": 55,
     "metadata": {},
     "output_type": "execute_result"
    }
   ],
   "source": [
    "sql = '''\n",
    "    SELECT\n",
    "        *\n",
    "    FROM\n",
    "        meals\n",
    "    ;\n",
    "'''\n",
    "\n",
    "df = pd.read_sql(sql, conn)\n",
    "df.head(10)"
   ]
  },
  {
   "cell_type": "code",
   "execution_count": 54,
   "metadata": {},
   "outputs": [
    {
     "data": {
      "text/html": [
       "<div>\n",
       "<style scoped>\n",
       "    .dataframe tbody tr th:only-of-type {\n",
       "        vertical-align: middle;\n",
       "    }\n",
       "\n",
       "    .dataframe tbody tr th {\n",
       "        vertical-align: top;\n",
       "    }\n",
       "\n",
       "    .dataframe thead th {\n",
       "        text-align: right;\n",
       "    }\n",
       "</style>\n",
       "<table border=\"1\" class=\"dataframe\">\n",
       "  <thead>\n",
       "    <tr style=\"text-align: right;\">\n",
       "      <th></th>\n",
       "      <th>type</th>\n",
       "      <th>mean_price</th>\n",
       "      <th>min_price</th>\n",
       "      <th>max_price</th>\n",
       "    </tr>\n",
       "  </thead>\n",
       "  <tbody>\n",
       "    <tr>\n",
       "      <th>0</th>\n",
       "      <td>mexican</td>\n",
       "      <td>9.697595</td>\n",
       "      <td>6</td>\n",
       "      <td>13</td>\n",
       "    </tr>\n",
       "    <tr>\n",
       "      <th>1</th>\n",
       "      <td>italian</td>\n",
       "      <td>11.292614</td>\n",
       "      <td>7</td>\n",
       "      <td>16</td>\n",
       "    </tr>\n",
       "    <tr>\n",
       "      <th>2</th>\n",
       "      <td>chinese</td>\n",
       "      <td>9.518717</td>\n",
       "      <td>6</td>\n",
       "      <td>13</td>\n",
       "    </tr>\n",
       "    <tr>\n",
       "      <th>3</th>\n",
       "      <td>french</td>\n",
       "      <td>11.542000</td>\n",
       "      <td>7</td>\n",
       "      <td>16</td>\n",
       "    </tr>\n",
       "    <tr>\n",
       "      <th>4</th>\n",
       "      <td>japanese</td>\n",
       "      <td>9.380488</td>\n",
       "      <td>6</td>\n",
       "      <td>13</td>\n",
       "    </tr>\n",
       "    <tr>\n",
       "      <th>5</th>\n",
       "      <td>vietnamese</td>\n",
       "      <td>9.283019</td>\n",
       "      <td>6</td>\n",
       "      <td>13</td>\n",
       "    </tr>\n",
       "  </tbody>\n",
       "</table>\n",
       "</div>"
      ],
      "text/plain": [
       "         type  mean_price  min_price  max_price\n",
       "0     mexican    9.697595          6         13\n",
       "1     italian   11.292614          7         16\n",
       "2     chinese    9.518717          6         13\n",
       "3      french   11.542000          7         16\n",
       "4    japanese    9.380488          6         13\n",
       "5  vietnamese    9.283019          6         13"
      ]
     },
     "execution_count": 54,
     "metadata": {},
     "output_type": "execute_result"
    }
   ],
   "source": [
    "sql = '''\n",
    "    SELECT\n",
    "        type,\n",
    "        AVG(price) mean_price,\n",
    "        MIN(price) min_price,\n",
    "        MAX(price) max_price\n",
    "    FROM\n",
    "        meals\n",
    "    GROUP BY\n",
    "        type\n",
    "    ;\n",
    "'''\n",
    "\n",
    "df = pd.read_sql(sql, conn)\n",
    "df.head(10)"
   ]
  },
  {
   "cell_type": "markdown",
   "metadata": {},
   "source": [
    "7. It's often helpful for us to give our own names to columns. We can always rename columns that we select by doing `AVG(price) AS avg_price`. This is called [aliasing](http://stackoverflow.com/questions/15413735/postgresql-help-me-figure-out-how-to-use-table-aliases). Alias all the above columns so that your table looks like this:\n",
    "\n",
    "    ```\n",
    "type\tavg_price\tmin_price\tmax_price\n",
    "0\tmexican\t9.697595\t6\t13\n",
    "    ...\n",
    "    ```"
   ]
  },
  {
   "cell_type": "code",
   "execution_count": null,
   "metadata": {},
   "outputs": [],
   "source": []
  },
  {
   "cell_type": "markdown",
   "metadata": {},
   "source": [
    "8. Maybe you only want to consider the meals which occur in the first quarter (January through March). Use `date_part` to get the month like this: `date_part('month', dt)`. Add a `WHERE` clause to the above query to consider only meals in the first quarter of 2013 (month<=3 and year=2013)."
   ]
  },
  {
   "cell_type": "code",
   "execution_count": 84,
   "metadata": {},
   "outputs": [
    {
     "data": {
      "text/html": [
       "<div>\n",
       "<style scoped>\n",
       "    .dataframe tbody tr th:only-of-type {\n",
       "        vertical-align: middle;\n",
       "    }\n",
       "\n",
       "    .dataframe tbody tr th {\n",
       "        vertical-align: top;\n",
       "    }\n",
       "\n",
       "    .dataframe thead th {\n",
       "        text-align: right;\n",
       "    }\n",
       "</style>\n",
       "<table border=\"1\" class=\"dataframe\">\n",
       "  <thead>\n",
       "    <tr style=\"text-align: right;\">\n",
       "      <th></th>\n",
       "      <th>month</th>\n",
       "      <th>type</th>\n",
       "      <th>mean_price</th>\n",
       "      <th>min_price</th>\n",
       "      <th>max_price</th>\n",
       "    </tr>\n",
       "  </thead>\n",
       "  <tbody>\n",
       "    <tr>\n",
       "      <th>0</th>\n",
       "      <td>1.0</td>\n",
       "      <td>chinese</td>\n",
       "      <td>11.230769</td>\n",
       "      <td>8</td>\n",
       "      <td>13</td>\n",
       "    </tr>\n",
       "    <tr>\n",
       "      <th>1</th>\n",
       "      <td>1.0</td>\n",
       "      <td>french</td>\n",
       "      <td>11.650000</td>\n",
       "      <td>7</td>\n",
       "      <td>16</td>\n",
       "    </tr>\n",
       "    <tr>\n",
       "      <th>2</th>\n",
       "      <td>1.0</td>\n",
       "      <td>italian</td>\n",
       "      <td>10.803030</td>\n",
       "      <td>7</td>\n",
       "      <td>16</td>\n",
       "    </tr>\n",
       "    <tr>\n",
       "      <th>3</th>\n",
       "      <td>1.0</td>\n",
       "      <td>japanese</td>\n",
       "      <td>9.615385</td>\n",
       "      <td>6</td>\n",
       "      <td>13</td>\n",
       "    </tr>\n",
       "    <tr>\n",
       "      <th>4</th>\n",
       "      <td>1.0</td>\n",
       "      <td>mexican</td>\n",
       "      <td>10.382353</td>\n",
       "      <td>6</td>\n",
       "      <td>13</td>\n",
       "    </tr>\n",
       "    <tr>\n",
       "      <th>5</th>\n",
       "      <td>1.0</td>\n",
       "      <td>vietnamese</td>\n",
       "      <td>10.800000</td>\n",
       "      <td>6</td>\n",
       "      <td>13</td>\n",
       "    </tr>\n",
       "    <tr>\n",
       "      <th>6</th>\n",
       "      <td>2.0</td>\n",
       "      <td>chinese</td>\n",
       "      <td>9.066667</td>\n",
       "      <td>6</td>\n",
       "      <td>13</td>\n",
       "    </tr>\n",
       "    <tr>\n",
       "      <th>7</th>\n",
       "      <td>2.0</td>\n",
       "      <td>french</td>\n",
       "      <td>10.838710</td>\n",
       "      <td>7</td>\n",
       "      <td>16</td>\n",
       "    </tr>\n",
       "    <tr>\n",
       "      <th>8</th>\n",
       "      <td>2.0</td>\n",
       "      <td>italian</td>\n",
       "      <td>11.266667</td>\n",
       "      <td>7</td>\n",
       "      <td>16</td>\n",
       "    </tr>\n",
       "    <tr>\n",
       "      <th>9</th>\n",
       "      <td>2.0</td>\n",
       "      <td>japanese</td>\n",
       "      <td>9.916667</td>\n",
       "      <td>6</td>\n",
       "      <td>13</td>\n",
       "    </tr>\n",
       "  </tbody>\n",
       "</table>\n",
       "</div>"
      ],
      "text/plain": [
       "   month        type  mean_price  min_price  max_price\n",
       "0    1.0     chinese   11.230769          8         13\n",
       "1    1.0      french   11.650000          7         16\n",
       "2    1.0     italian   10.803030          7         16\n",
       "3    1.0    japanese    9.615385          6         13\n",
       "4    1.0     mexican   10.382353          6         13\n",
       "5    1.0  vietnamese   10.800000          6         13\n",
       "6    2.0     chinese    9.066667          6         13\n",
       "7    2.0      french   10.838710          7         16\n",
       "8    2.0     italian   11.266667          7         16\n",
       "9    2.0    japanese    9.916667          6         13"
      ]
     },
     "execution_count": 84,
     "metadata": {},
     "output_type": "execute_result"
    }
   ],
   "source": [
    "sql = '''\n",
    "    SELECT\n",
    "        DATE_PART('month', dt) AS month,\n",
    "        type,\n",
    "        AVG(price) mean_price,\n",
    "        MIN(price) min_price,\n",
    "        MAX(price) max_price\n",
    "    FROM\n",
    "        meals\n",
    "    WHERE\n",
    "        DATE_PART('month', dt)<=3 AND\n",
    "        DATE_PART('year', dt)=2013\n",
    "    GROUP BY\n",
    "        month,\n",
    "        type\n",
    "    ;\n",
    "'''\n",
    "\n",
    "df = pd.read_sql(sql, conn)\n",
    "df.head(10)"
   ]
  },
  {
   "cell_type": "markdown",
   "metadata": {},
   "source": [
    "9. There are also scenarios where you'd want to group by two columns. Modify the above query so that we get the aggregate values for each month and type. You'll need to add the month to both the select statement and the group by statement.\n",
    "\n",
    "    It'll be helpful to *alias* the month column and give it a name like `month` so you don't have to call the `date_time` function again in the `GROUP BY` clause.\n",
    "\n",
    "    Your result should look like this:\n",
    "```\n",
    "       type\tmonth\tavg_price\tmin_price\tmax_price\n",
    "0\tchinese\t1.0\t11.230769\t8\t13\n",
    "1\tchinese\t2.0\t9.066667\t6\t13\n",
    "2\tchinese\t3.0\t9.250000\t6\t13\n",
    "3\tfrench\t1.0\t11.650000\t7\t16\n",
    "```"
   ]
  },
  {
   "cell_type": "code",
   "execution_count": 85,
   "metadata": {},
   "outputs": [
    {
     "data": {
      "text/html": [
       "<div>\n",
       "<style scoped>\n",
       "    .dataframe tbody tr th:only-of-type {\n",
       "        vertical-align: middle;\n",
       "    }\n",
       "\n",
       "    .dataframe tbody tr th {\n",
       "        vertical-align: top;\n",
       "    }\n",
       "\n",
       "    .dataframe thead th {\n",
       "        text-align: right;\n",
       "    }\n",
       "</style>\n",
       "<table border=\"1\" class=\"dataframe\">\n",
       "  <thead>\n",
       "    <tr style=\"text-align: right;\">\n",
       "      <th></th>\n",
       "      <th>month</th>\n",
       "      <th>type</th>\n",
       "      <th>mean_price</th>\n",
       "      <th>min_price</th>\n",
       "      <th>max_price</th>\n",
       "    </tr>\n",
       "  </thead>\n",
       "  <tbody>\n",
       "    <tr>\n",
       "      <th>0</th>\n",
       "      <td>1.0</td>\n",
       "      <td>chinese</td>\n",
       "      <td>11.230769</td>\n",
       "      <td>8</td>\n",
       "      <td>13</td>\n",
       "    </tr>\n",
       "    <tr>\n",
       "      <th>1</th>\n",
       "      <td>1.0</td>\n",
       "      <td>french</td>\n",
       "      <td>11.650000</td>\n",
       "      <td>7</td>\n",
       "      <td>16</td>\n",
       "    </tr>\n",
       "    <tr>\n",
       "      <th>2</th>\n",
       "      <td>1.0</td>\n",
       "      <td>italian</td>\n",
       "      <td>10.803030</td>\n",
       "      <td>7</td>\n",
       "      <td>16</td>\n",
       "    </tr>\n",
       "    <tr>\n",
       "      <th>3</th>\n",
       "      <td>1.0</td>\n",
       "      <td>japanese</td>\n",
       "      <td>9.615385</td>\n",
       "      <td>6</td>\n",
       "      <td>13</td>\n",
       "    </tr>\n",
       "    <tr>\n",
       "      <th>4</th>\n",
       "      <td>1.0</td>\n",
       "      <td>mexican</td>\n",
       "      <td>10.382353</td>\n",
       "      <td>6</td>\n",
       "      <td>13</td>\n",
       "    </tr>\n",
       "    <tr>\n",
       "      <th>5</th>\n",
       "      <td>1.0</td>\n",
       "      <td>vietnamese</td>\n",
       "      <td>10.800000</td>\n",
       "      <td>6</td>\n",
       "      <td>13</td>\n",
       "    </tr>\n",
       "    <tr>\n",
       "      <th>6</th>\n",
       "      <td>2.0</td>\n",
       "      <td>chinese</td>\n",
       "      <td>9.066667</td>\n",
       "      <td>6</td>\n",
       "      <td>13</td>\n",
       "    </tr>\n",
       "    <tr>\n",
       "      <th>7</th>\n",
       "      <td>2.0</td>\n",
       "      <td>french</td>\n",
       "      <td>10.838710</td>\n",
       "      <td>7</td>\n",
       "      <td>16</td>\n",
       "    </tr>\n",
       "    <tr>\n",
       "      <th>8</th>\n",
       "      <td>2.0</td>\n",
       "      <td>italian</td>\n",
       "      <td>11.266667</td>\n",
       "      <td>7</td>\n",
       "      <td>16</td>\n",
       "    </tr>\n",
       "    <tr>\n",
       "      <th>9</th>\n",
       "      <td>2.0</td>\n",
       "      <td>japanese</td>\n",
       "      <td>9.916667</td>\n",
       "      <td>6</td>\n",
       "      <td>13</td>\n",
       "    </tr>\n",
       "  </tbody>\n",
       "</table>\n",
       "</div>"
      ],
      "text/plain": [
       "   month        type  mean_price  min_price  max_price\n",
       "0    1.0     chinese   11.230769          8         13\n",
       "1    1.0      french   11.650000          7         16\n",
       "2    1.0     italian   10.803030          7         16\n",
       "3    1.0    japanese    9.615385          6         13\n",
       "4    1.0     mexican   10.382353          6         13\n",
       "5    1.0  vietnamese   10.800000          6         13\n",
       "6    2.0     chinese    9.066667          6         13\n",
       "7    2.0      french   10.838710          7         16\n",
       "8    2.0     italian   11.266667          7         16\n",
       "9    2.0    japanese    9.916667          6         13"
      ]
     },
     "execution_count": 85,
     "metadata": {},
     "output_type": "execute_result"
    }
   ],
   "source": [
    "sql = '''\n",
    "    SELECT\n",
    "        DATE_PART('month', dt) AS month,\n",
    "        type,\n",
    "        AVG(price) mean_price,\n",
    "        MIN(price) min_price,\n",
    "        MAX(price) max_price\n",
    "    FROM\n",
    "        meals\n",
    "    WHERE\n",
    "        DATE_PART('month', dt)<=3 AND\n",
    "        DATE_PART('year', dt)=2013\n",
    "    GROUP BY\n",
    "        month,\n",
    "        type\n",
    "    ;\n",
    "'''\n",
    "\n",
    "df = pd.read_sql(sql, conn)\n",
    "df.head(10)"
   ]
  },
  {
   "cell_type": "code",
   "execution_count": null,
   "metadata": {},
   "outputs": [],
   "source": []
  },
  {
   "cell_type": "markdown",
   "metadata": {},
   "source": [
    "10. From the `events` table, write a query that gets the total number of buys, likes and shares for each meal id. \n",
    "_Extra_: To avoid having to do this as three separate queries you can do the count of the number of buys like this: `SUM(CASE WHEN event='bought' THEN 1 ELSE 0 END)`."
   ]
  },
  {
   "cell_type": "code",
   "execution_count": 81,
   "metadata": {},
   "outputs": [
    {
     "data": {
      "text/html": [
       "<div>\n",
       "<style scoped>\n",
       "    .dataframe tbody tr th:only-of-type {\n",
       "        vertical-align: middle;\n",
       "    }\n",
       "\n",
       "    .dataframe tbody tr th {\n",
       "        vertical-align: top;\n",
       "    }\n",
       "\n",
       "    .dataframe thead th {\n",
       "        text-align: right;\n",
       "    }\n",
       "</style>\n",
       "<table border=\"1\" class=\"dataframe\">\n",
       "  <thead>\n",
       "    <tr style=\"text-align: right;\">\n",
       "      <th></th>\n",
       "      <th>month</th>\n",
       "      <th>type</th>\n",
       "      <th>mean_price</th>\n",
       "      <th>min_price</th>\n",
       "      <th>max_price</th>\n",
       "    </tr>\n",
       "  </thead>\n",
       "  <tbody>\n",
       "    <tr>\n",
       "      <th>0</th>\n",
       "      <td>1.0</td>\n",
       "      <td>chinese</td>\n",
       "      <td>11.230769</td>\n",
       "      <td>8</td>\n",
       "      <td>13</td>\n",
       "    </tr>\n",
       "    <tr>\n",
       "      <th>1</th>\n",
       "      <td>2.0</td>\n",
       "      <td>chinese</td>\n",
       "      <td>9.066667</td>\n",
       "      <td>6</td>\n",
       "      <td>13</td>\n",
       "    </tr>\n",
       "    <tr>\n",
       "      <th>2</th>\n",
       "      <td>3.0</td>\n",
       "      <td>chinese</td>\n",
       "      <td>9.250000</td>\n",
       "      <td>6</td>\n",
       "      <td>13</td>\n",
       "    </tr>\n",
       "    <tr>\n",
       "      <th>3</th>\n",
       "      <td>1.0</td>\n",
       "      <td>french</td>\n",
       "      <td>11.650000</td>\n",
       "      <td>7</td>\n",
       "      <td>16</td>\n",
       "    </tr>\n",
       "    <tr>\n",
       "      <th>4</th>\n",
       "      <td>2.0</td>\n",
       "      <td>french</td>\n",
       "      <td>10.838710</td>\n",
       "      <td>7</td>\n",
       "      <td>16</td>\n",
       "    </tr>\n",
       "    <tr>\n",
       "      <th>5</th>\n",
       "      <td>3.0</td>\n",
       "      <td>french</td>\n",
       "      <td>12.523810</td>\n",
       "      <td>8</td>\n",
       "      <td>16</td>\n",
       "    </tr>\n",
       "    <tr>\n",
       "      <th>6</th>\n",
       "      <td>1.0</td>\n",
       "      <td>italian</td>\n",
       "      <td>10.803030</td>\n",
       "      <td>7</td>\n",
       "      <td>16</td>\n",
       "    </tr>\n",
       "    <tr>\n",
       "      <th>7</th>\n",
       "      <td>2.0</td>\n",
       "      <td>italian</td>\n",
       "      <td>11.266667</td>\n",
       "      <td>7</td>\n",
       "      <td>16</td>\n",
       "    </tr>\n",
       "    <tr>\n",
       "      <th>8</th>\n",
       "      <td>3.0</td>\n",
       "      <td>italian</td>\n",
       "      <td>11.266667</td>\n",
       "      <td>7</td>\n",
       "      <td>16</td>\n",
       "    </tr>\n",
       "    <tr>\n",
       "      <th>9</th>\n",
       "      <td>1.0</td>\n",
       "      <td>japanese</td>\n",
       "      <td>9.615385</td>\n",
       "      <td>6</td>\n",
       "      <td>13</td>\n",
       "    </tr>\n",
       "  </tbody>\n",
       "</table>\n",
       "</div>"
      ],
      "text/plain": [
       "   month      type  mean_price  min_price  max_price\n",
       "0    1.0   chinese   11.230769          8         13\n",
       "1    2.0   chinese    9.066667          6         13\n",
       "2    3.0   chinese    9.250000          6         13\n",
       "3    1.0    french   11.650000          7         16\n",
       "4    2.0    french   10.838710          7         16\n",
       "5    3.0    french   12.523810          8         16\n",
       "6    1.0   italian   10.803030          7         16\n",
       "7    2.0   italian   11.266667          7         16\n",
       "8    3.0   italian   11.266667          7         16\n",
       "9    1.0  japanese    9.615385          6         13"
      ]
     },
     "execution_count": 81,
     "metadata": {},
     "output_type": "execute_result"
    }
   ],
   "source": [
    "sql = '''\n",
    "    SELECT\n",
    "        DATE_PART('month', dt) AS month,\n",
    "        type,\n",
    "        AVG(price) mean_price,\n",
    "        MIN(price) min_price,\n",
    "        MAX(price) max_price\n",
    "    FROM\n",
    "        meals\n",
    "    WHERE\n",
    "        DATE_PART('month', dt)<=3 AND\n",
    "        DATE_PART('year', dt)=2013\n",
    "    GROUP BY\n",
    "        type,\n",
    "        month\n",
    "    ;\n",
    "'''\n",
    "\n",
    "df = pd.read_sql(sql, conn)\n",
    "df.head(10)"
   ]
  },
  {
   "cell_type": "markdown",
   "metadata": {},
   "source": [
    "## Advanced\n",
    "\n",
    "### Part 6: Sorting\n",
    "\n",
    "1. Let's start with a query which gets the average price for each type. It will be helpful to alias the average price column as 'avg_price'."
   ]
  },
  {
   "cell_type": "code",
   "execution_count": null,
   "metadata": {},
   "outputs": [],
   "source": []
  },
  {
   "cell_type": "markdown",
   "metadata": {},
   "source": [
    "2. To make it easier to read, sort the results by the `type` column. You can do this with an [ORDER BY](http://www.postgresqltutorial.com/postgresql-order-by/) clause."
   ]
  },
  {
   "cell_type": "code",
   "execution_count": null,
   "metadata": {},
   "outputs": [],
   "source": []
  },
  {
   "cell_type": "markdown",
   "metadata": {},
   "source": [
    "3. Now return the same table again, except this time order by the price in descending order (add the `DESC` keyword)."
   ]
  },
  {
   "cell_type": "code",
   "execution_count": null,
   "metadata": {},
   "outputs": [],
   "source": []
  },
  {
   "cell_type": "markdown",
   "metadata": {},
   "source": [
    "3. Sometimes we want to sort by two columns. Write a query to get all the meals, but sort by the type and then by the price. You should have an order by clause that looks something like this: `ORDER BY col1, col2`."
   ]
  },
  {
   "cell_type": "code",
   "execution_count": null,
   "metadata": {},
   "outputs": [],
   "source": []
  },
  {
   "cell_type": "markdown",
   "metadata": {},
   "source": [
    "4. For shorthand, people sometimes use numbers to refer to the columns in their order by or group by clauses. The numbers refer to the order they are in the select statement. For instance `SELECT type, dt FROM meals ORDER BY 1;` would order the results by the `type` column."
   ]
  },
  {
   "cell_type": "code",
   "execution_count": null,
   "metadata": {},
   "outputs": [],
   "source": []
  },
  {
   "cell_type": "markdown",
   "metadata": {},
   "source": [
    "### Part 7: Joins\n",
    "\n",
    "Now we are ready to do operations on multiple tables. A [JOIN](http://www.tutorialspoint.com/postgresql/postgresql_using_joins.htm) allows us to combine multiple tables.\n",
    "\n",
    "1. Write a query to get one table that joins the `events` table with the `users` table (on `userid`) to create the following result.\n",
    "\n",
    "    ```\n",
    "\tuserid\tcampaign_id\tmeal_id\tevent\n",
    "0\t3\tFB\t18\tbought\n",
    "1\t7\tPI\t1\tlike\n",
    "2\t10\tTW\t29\tbought\n",
    "3\t11\tRE\t19\tshare\n",
    "    ...\n",
    "    ```"
   ]
  },
  {
   "cell_type": "code",
   "execution_count": null,
   "metadata": {},
   "outputs": [],
   "source": []
  },
  {
   "cell_type": "markdown",
   "metadata": {},
   "source": [
    "2. Also include information about the meal, like the `type` and the `price`. Only include the `bought` events. The result should look like this:\n",
    "\n",
    "    ```\n",
    "  \tuserid\tcampaign_id\tmeal_id\ttype\tprice\n",
    "0\t3\tFB\t18\tfrench\t9\n",
    "1\t10\tTW\t29\titalian\t15\n",
    "2\t18\tTW\t40\tjapanese\t13\n",
    "3\t22\tRE\t23\tmexican\t12\n",
    "4\t25\tFB\t8\tfrench\t\n",
    "    ...\n",
    "    ```\n",
    "\n",
    "    If your results are different, make sure you filtered it so you only got the `bought` events. You should be able to do this *without* using a where clause, only on clause(s)! (note this has no effect on performance, and may make the query more confusing)"
   ]
  },
  {
   "cell_type": "code",
   "execution_count": null,
   "metadata": {},
   "outputs": [],
   "source": []
  },
  {
   "cell_type": "markdown",
   "metadata": {},
   "source": [
    "3. Write a query to get how many of each type of meal were bought.\n",
    "\n",
    "    You should again be able to do this *without* a where clause!\n",
    "\n",
    "*Phew!* If you've made it this far, congratulations! You're ready to move on to subqueries."
   ]
  },
  {
   "cell_type": "code",
   "execution_count": null,
   "metadata": {},
   "outputs": [],
   "source": []
  },
  {
   "cell_type": "markdown",
   "metadata": {},
   "source": [
    "### Part 8: Subqueries\n",
    "\n",
    "In a [subquery](http://www.postgresql.org/docs/8.1/static/functions-subquery.html), you have a select statement embedded in another select statement.\n",
    "\n",
    "1. Write a query to get meals that are above the average meal price.\n",
    "\n",
    "    Start by writing a query to get the average meal price. Then write a query where you put `price > (SELECT ...)` (that select statement should return the average price)."
   ]
  },
  {
   "cell_type": "code",
   "execution_count": null,
   "metadata": {},
   "outputs": [],
   "source": []
  },
  {
   "cell_type": "markdown",
   "metadata": {},
   "source": [
    "2. Write a query to get the meals that are above the average meal price *for that type*.\n",
    "\n",
    "    Here you'll need to use a join. First write a query that gets the average meal price for each type. Then join with that table to get ones that are larger than the average price for that meal. Your query should look something like this:\n",
    "\n",
    "    ```sql\n",
    "    SELECT meals.*\n",
    "    FROM meals\n",
    "    JOIN (SELECT ...) average\n",
    "    ON ...\n",
    "    ```\n",
    "\n",
    "    Note that you need to fill in the select statement that will get the average meal price for each type. We *alias* this table and give it the name `average` (you can include the `AS` keyword, but it doesn't matter)."
   ]
  },
  {
   "cell_type": "code",
   "execution_count": null,
   "metadata": {},
   "outputs": [],
   "source": []
  },
  {
   "cell_type": "markdown",
   "metadata": {},
   "source": [
    "3. Modify the above query to give a count of the number of meals per type that are above the average price."
   ]
  },
  {
   "cell_type": "code",
   "execution_count": null,
   "metadata": {},
   "outputs": [],
   "source": []
  },
  {
   "cell_type": "markdown",
   "metadata": {},
   "source": [
    "4. Calculate the percentage of users which come from each service. This query will look similar to #2 from aggregation functions, except you have to divide by the total number of users.\n",
    "\n",
    "    Like with many programming languages, dividing an int by an int yields an int, and you will get 0 instead of something like 0.54. You can deal with this by casting one of the values as a real like this: `CAST (value AS REAL)`\n",
    "\n",
    "    You should get a result like this:\n",
    "\n",
    "    ```\n",
    "     campaign_id |      percent\n",
    "    -------------+-------------------\n",
    "     RE          | 0.156046343229544\n",
    "     FB          | 0.396813902968863\n",
    "     TW          | 0.340695148443157\n",
    "     PI          | 0.106444605358436\n",
    "    (4 rows)\n",
    "    ```"
   ]
  },
  {
   "cell_type": "code",
   "execution_count": null,
   "metadata": {},
   "outputs": [],
   "source": []
  },
  {
   "cell_type": "markdown",
   "metadata": {},
   "source": [
    "## Extra Credit\n",
    "\n",
    "### Part 9: More practice\n",
    "\n",
    "1. Answer the question, _\"What user from each campaign bought the most items?\"_\n",
    "\n",
    "    It will be helpful to create a temporary table that contains the counts of the number of items each user bought. You can create a table like this: `CREATE TABLE mytable AS SELECT...`"
   ]
  },
  {
   "cell_type": "code",
   "execution_count": null,
   "metadata": {},
   "outputs": [],
   "source": []
  },
  {
   "cell_type": "markdown",
   "metadata": {},
   "source": [
    "2. For each day, get the total number of users who have registered as of that day. You should get a table that has a `dt` and a `cnt` column. This is a cumulative sum."
   ]
  },
  {
   "cell_type": "code",
   "execution_count": null,
   "metadata": {},
   "outputs": [],
   "source": []
  },
  {
   "cell_type": "markdown",
   "metadata": {},
   "source": [
    "3. What day of the week gets meals with the most buys?"
   ]
  },
  {
   "cell_type": "code",
   "execution_count": null,
   "metadata": {},
   "outputs": [],
   "source": []
  },
  {
   "cell_type": "markdown",
   "metadata": {},
   "source": [
    "4. Which month had the highest percent of users who visited the site purchase a meal?"
   ]
  },
  {
   "cell_type": "code",
   "execution_count": null,
   "metadata": {},
   "outputs": [],
   "source": []
  },
  {
   "cell_type": "markdown",
   "metadata": {},
   "source": [
    "5. Find all the meals that are above the average price of the previous 7 days."
   ]
  },
  {
   "cell_type": "code",
   "execution_count": null,
   "metadata": {},
   "outputs": [],
   "source": []
  },
  {
   "cell_type": "markdown",
   "metadata": {},
   "source": [
    "6. What percent of users have shared more meals than they have liked?"
   ]
  },
  {
   "cell_type": "code",
   "execution_count": null,
   "metadata": {},
   "outputs": [],
   "source": []
  },
  {
   "cell_type": "markdown",
   "metadata": {},
   "source": [
    "7. For every day, count the number of users who have visited the site and done no action."
   ]
  },
  {
   "cell_type": "code",
   "execution_count": null,
   "metadata": {},
   "outputs": [],
   "source": []
  },
  {
   "cell_type": "markdown",
   "metadata": {},
   "source": [
    "8. Find all the dates with a greater than average number of meals."
   ]
  },
  {
   "cell_type": "code",
   "execution_count": null,
   "metadata": {},
   "outputs": [],
   "source": []
  },
  {
   "cell_type": "markdown",
   "metadata": {},
   "source": [
    "9. Find all the users who bought a meal before liking or sharing a meal."
   ]
  },
  {
   "cell_type": "code",
   "execution_count": null,
   "metadata": {},
   "outputs": [],
   "source": []
  },
  {
   "cell_type": "code",
   "execution_count": null,
   "metadata": {},
   "outputs": [],
   "source": []
  },
  {
   "cell_type": "code",
   "execution_count": null,
   "metadata": {},
   "outputs": [],
   "source": []
  }
 ],
 "metadata": {
  "kernelspec": {
   "display_name": "Python 3",
   "language": "python",
   "name": "python3"
  },
  "language_info": {
   "codemirror_mode": {
    "name": "ipython",
    "version": 3
   },
   "file_extension": ".py",
   "mimetype": "text/x-python",
   "name": "python",
   "nbconvert_exporter": "python",
   "pygments_lexer": "ipython3",
   "version": "3.7.7"
  }
 },
 "nbformat": 4,
 "nbformat_minor": 4
}
